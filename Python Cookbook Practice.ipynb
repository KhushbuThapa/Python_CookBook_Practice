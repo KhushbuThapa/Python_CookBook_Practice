{
 "cells": [
  {
   "cell_type": "markdown",
   "metadata": {},
   "source": [
    "### Unpacking a sequence of datas from the list or tuple into the collection:"
   ]
  },
  {
   "cell_type": "markdown",
   "metadata": {},
   "source": [
    "- Works for any object that is iterable (strings, files, iterators and generators)\n",
    "    --> Iterators are the ones that can be used in 'for loop' and includes : lists, dict, tuple and sets\n",
    "    \n",
    " Note: If you mismatched the mapping them unpacking cannot be done"
   ]
  },
  {
   "cell_type": "code",
   "execution_count": 1,
   "metadata": {},
   "outputs": [
    {
     "name": "stdout",
     "output_type": "stream",
     "text": [
      "4\n",
      "5\n"
     ]
    }
   ],
   "source": [
    "p=(4,5)\n",
    "x,y=p\n",
    "print(x)\n",
    "print(y)"
   ]
  },
  {
   "cell_type": "markdown",
   "metadata": {},
   "source": [
    "If you want to neglect some values\n"
   ]
  },
  {
   "cell_type": "code",
   "execution_count": 3,
   "metadata": {},
   "outputs": [
    {
     "name": "stdout",
     "output_type": "stream",
     "text": [
      "Hello\n",
      "123654\n"
     ]
    }
   ],
   "source": [
    "test_data=['Hello', 'This', 'is', '123654']\n",
    "hello, _, _, number=test_data\n",
    "print(hello)\n",
    "print(number)\n"
   ]
  },
  {
   "cell_type": "markdown",
   "metadata": {},
   "source": [
    "### Unpacking elements from iterables of Arbitrary length"
   ]
  },
  {
   "cell_type": "markdown",
   "metadata": {},
   "source": [
    "###Problem\n",
    "You need to unpack N elements from an iterable, but the iterable may be longer than N\n",
    "elements, causing a “too many values to unpack” exception."
   ]
  },
  {
   "cell_type": "markdown",
   "metadata": {},
   "source": [
    "### Know 'Star Expression' first"
   ]
  },
  {
   "cell_type": "markdown",
   "metadata": {},
   "source": [
    "It is used for following purposes:\n",
    "1. For Multiplication and power operations."
   ]
  },
  {
   "cell_type": "code",
   "execution_count": 1,
   "metadata": {},
   "outputs": [
    {
     "data": {
      "text/plain": [
       "6"
      ]
     },
     "execution_count": 1,
     "metadata": {},
     "output_type": "execute_result"
    }
   ],
   "source": [
    "2 * 3\n"
   ]
  },
  {
   "cell_type": "markdown",
   "metadata": {},
   "source": [
    "2. For repeatedly extending the list-type containers.\n",
    "- Supports that multiply the list-type container (includes tuple) and int for extending container data by given number times.\n",
    "-"
   ]
  },
  {
   "cell_type": "markdown",
   "metadata": {},
   "source": [
    "##### Enumerate :\n",
    "Enumerate() method adds a counter to an iterable and returns it in a form of enumerate object. This enumerate object can then be used directly in for loops or be converted into a list of tuples using list() method."
   ]
  },
  {
   "cell_type": "code",
   "execution_count": 12,
   "metadata": {},
   "outputs": [
    {
     "name": "stdout",
     "output_type": "stream",
     "text": [
      "(0, 1)\n",
      "(1, 2)\n",
      "(2, 3)\n"
     ]
    }
   ],
   "source": [
    "list_one=[1,2,3]\n",
    "for i in enumerate(list_one):\n",
    "    print(i)"
   ]
  },
  {
   "cell_type": "code",
   "execution_count": 6,
   "metadata": {},
   "outputs": [
    {
     "name": "stdout",
     "output_type": "stream",
     "text": [
      "[0, 0, 0, 0, 0, 0, 0, 0, 0, 0, 0, 0, 0, 0, 0, 0, 0, 0, 0, 0, 0, 0, 0, 0, 0, 0, 0, 0, 0, 0, 0, 0, 0, 0, 0, 0, 0, 0, 0, 0, 0, 0, 0, 0, 0, 0, 0, 0, 0, 0, 0, 0, 0, 0, 0, 0, 0, 0, 0, 0, 0, 0, 0, 0, 0, 0, 0, 0, 0, 0, 0, 0, 0, 0, 0, 0, 0, 0, 0, 0, 0, 0, 0, 0, 0, 0, 0, 0, 0, 0, 0, 0, 0, 0, 0, 0, 0, 0, 0, 0]\n",
      "[1, 1, 1, 1, 1, 1, 1, 1, 1, 1, 1, 1, 1, 1, 1, 1, 1, 1, 1, 1, 1, 1, 1, 1, 1, 1, 1, 1, 1, 1, 1, 1, 1, 1, 1, 1, 1, 1, 1, 1, 1, 1, 1, 1, 1, 1, 1, 1, 1, 1, 1, 1, 1, 1, 1, 1, 1, 1, 1, 1, 1, 1, 1, 1, 1, 1, 1, 1, 1, 1, 1, 1, 1, 1, 1, 1, 1, 1, 1, 1, 1, 1, 1, 1, 1, 1, 1, 1, 1, 1, 1, 1, 1, 1, 1, 1, 1, 1, 1, 1]\n",
      "[2, 2, 2, 2, 2, 2, 2, 2, 2, 2, 2, 2, 2, 2, 2, 2, 2]\n"
     ]
    }
   ],
   "source": [
    "zeros_list=[0] * 100\n",
    "print(zeros_list)\n",
    "ones_list=[1] * 100\n",
    "print(ones_list)\n",
    "two_list=[2] * 17\n",
    "print(two_list)"
   ]
  },
  {
   "cell_type": "markdown",
   "metadata": {},
   "source": [
    "#### Positional arguments and Variadic positional/ keyword arguments\n",
    "1. Positional Arguments:\n",
    "    - One cannot omit positional arguments\n",
    "    - one must pass all positional arguments to the correct location for each number of arguments declared.\n",
    "   \n",
    "2. Keyword Arguments\n",
    "    - for keyword arguments, it can be ommitted.\n",
    "    - Default value is set and if these argument's value is not passed during the process of declaring the function, then default value is extracted.\n",
    "    \n",
    "As keyword arguments can be omitted, they are declared after positional arguments.\n",
    "        "
   ]
  },
  {
   "cell_type": "code",
   "execution_count": 3,
   "metadata": {},
   "outputs": [
    {
     "name": "stdout",
     "output_type": "stream",
     "text": [
      "{1: 'Khushbu', 2: 'Rojita', 3: 'Nobody', 4: 'Nobody'}\n",
      "{1: 'Khushbu', 2: 'Rojita', 3: 'Bijay', 4: 'Aashman'}\n"
     ]
    }
   ],
   "source": [
    "# Positional Arguments and keyword arguments\n",
    "def types_of_arguments(first, second, third=None, fourth=None):\n",
    "#     here first and second are positional arguments while third and fourth are keyword arguments\n",
    "    rank={}\n",
    "    rank[1], rank[2]=first, second\n",
    "    rank[3]=third if third is not None else 'Nobody'\n",
    "    rank[4] = fourth if fourth is not None else 'Nobody'\n",
    "    print(rank)\n",
    "    \n",
    "    \n",
    "types_of_arguments('Khushbu', 'Rojita')\n",
    "types_of_arguments('Khushbu', 'Rojita', 'Bijay', 'Aashman')"
   ]
  },
  {
   "cell_type": "code",
   "execution_count": 9,
   "metadata": {},
   "outputs": [
    {
     "ename": "SyntaxError",
     "evalue": "non-default argument follows default argument (<ipython-input-9-77d7f948ba95>, line 2)",
     "output_type": "error",
     "traceback": [
      "\u001b[0;36m  File \u001b[0;32m\"<ipython-input-9-77d7f948ba95>\"\u001b[0;36m, line \u001b[0;32m2\u001b[0m\n\u001b[0;31m    def types_of_arguments(first, second=None, third, fourth=None):\u001b[0m\n\u001b[0m                          ^\u001b[0m\n\u001b[0;31mSyntaxError\u001b[0m\u001b[0;31m:\u001b[0m non-default argument follows default argument\n"
     ]
    }
   ],
   "source": [
    "# Another example \n",
    "# This is not the valid case as you can only specify keyword arguments only if positional arguments are done declaring.\n",
    "def types_of_arguments(first, second=None, third, fourth=None):\n",
    "    rank={}\n",
    "    rank[1]=first\n",
    "    rank[2]=second if second is not None else 'Nobody'\n",
    "    rank[3]=third\n",
    "    rank[4]=fourth if fourth is not None else 'Nobody'\n",
    "    print(rank)\n",
    "    \n",
    "types_of_arguments('hello', 'this','is')"
   ]
  },
  {
   "cell_type": "markdown",
   "metadata": {},
   "source": [
    "#### To handle arbitart numbers of runners we need variadic arguments\n",
    "- both positional and keyword arguments can be used as variadic arguments\n",
    "- When only positional arguments are used the they are passed in the function as :\n",
    "def positional_arguments_ex(*args):\n",
    "   \n",
    "- When only keyword arguments are used, then they are passed in the function as:\n",
    "def keyword_arguments(**kwargs):\n",
    "\n",
    "- When both positional and keyword arguments are used in the function as variadic then, it can be listed as:\n",
    "def both_arguments(*args, **kwargs):\n",
    "\n"
   ]
  },
  {
   "cell_type": "code",
   "execution_count": 13,
   "metadata": {
    "scrolled": false
   },
   "outputs": [
    {
     "name": "stdout",
     "output_type": "stream",
     "text": [
      "('Hello', 'There')\n",
      "{}\n",
      "('Hello', 'There')\n",
      "{'how': 'How', 'are': 'are'}\n"
     ]
    }
   ],
   "source": [
    "# Example of the variadic arguments\n",
    "def variadic_arguments(*args, **kwargs):\n",
    "    print(args)\n",
    "    print(kwargs)\n",
    "    \n",
    "variadic_arguments('Hello', 'There')\n",
    "variadic_arguments('Hello', 'There', how='How', are='are')\n",
    "\n",
    "\n"
   ]
  },
  {
   "cell_type": "markdown",
   "metadata": {},
   "source": [
    "#### '*args':\n",
    "    -means accepting arbitary numbers of positional arguments\n",
    "\n",
    "#### '**kwargs':\n",
    "    -means accepting arbitary numbers of keyword arguments\n",
    "    \n",
    "And having both of the (*args, **kwargs) --> means UNPACKING\n",
    "       The arguments passed as positional arguments are stored in a list called args\n",
    "       while arguments passed as keyword arguments are stored in a dict called kwargs."
   ]
  },
  {
   "cell_type": "markdown",
   "metadata": {},
   "source": [
    "### For unpacking the containers:\n",
    " "
   ]
  },
  {
   "cell_type": "code",
   "execution_count": 17,
   "metadata": {},
   "outputs": [
    {
     "data": {
      "text/plain": [
       "[2, 3, 5, 7, 11, 13]"
      ]
     },
     "execution_count": 17,
     "metadata": {},
     "output_type": "execute_result"
    }
   ],
   "source": [
    "# Unpacking list items\n",
    "from functools import reduce\n",
    "\n",
    "primes =[2,3,5,7,11,13]\n",
    "\n",
    "def product(*numbers):\n",
    "    p=reduce(lambda x, y: x*y, numbers)\n",
    "    return p\n",
    "\n",
    "product(*primes)\n",
    "product(primes)"
   ]
  },
  {
   "cell_type": "code",
   "execution_count": 23,
   "metadata": {},
   "outputs": [
    {
     "name": "stdout",
     "output_type": "stream",
     "text": [
      "(<function tuples_unpacking.<locals>.<lambda> at 0x7f358c4f2d90>, (2, 3, 5, 7, 11, 13))\n"
     ]
    }
   ],
   "source": [
    "# For tuples\n",
    "\n",
    "primes =(2,3,5,7,11,13)\n",
    "\n",
    "def tuples_unpacking(*numbers):\n",
    "    total_sum=(lambda x, y:x+y, numbers)\n",
    "    print(total_sum)\n",
    "    \n",
    "tuples_unpacking(*primes)\n",
    "\n"
   ]
  },
  {
   "cell_type": "code",
   "execution_count": 28,
   "metadata": {},
   "outputs": [
    {
     "name": "stdout",
     "output_type": "stream",
     "text": [
      "12 55 14\n"
     ]
    }
   ],
   "source": [
    "# For dictionary:\n",
    "marks={\n",
    "    'Math':12,\n",
    "    'Science':55,\n",
    "    'English':14\n",
    "}\n",
    "\n",
    "def calculate_total(**marks):\n",
    "    Maths_score=marks['Math']\n",
    "    Science_score=marks['Science']    \n",
    "    English_score=marks['English']  \n",
    "    print(Maths_score, Science_score, English_score)\n",
    "    \n",
    "calculate_total(**marks)"
   ]
  },
  {
   "cell_type": "code",
   "execution_count": 29,
   "metadata": {},
   "outputs": [
    {
     "name": "stdout",
     "output_type": "stream",
     "text": [
      "[1, 2, 3, 4, 5, 6, 7, 8, 9]\n",
      "[1, 2, 3, 4, 5, 6, 7, 8] 9\n",
      "1 [2, 3, 4, 5, 6, 7, 8] 9\n"
     ]
    }
   ],
   "source": [
    "# Special Ones:\n",
    "numbers=[1,2,3,4,5,6,7,8,9]\n",
    "\n",
    "# The left side unpacking should be list or tuple\n",
    "*a, = [1,2,3,4,5,6,7,8,9]\n",
    "print(a)\n",
    "\n",
    "*a, b=[1,2,3,4,5,6,7,8,9]\n",
    "print(a,b)\n",
    "\n",
    "a, *b, c=[1,2,3,4,5,6,7,8,9]\n",
    "print(a,b,c)"
   ]
  },
  {
   "cell_type": "code",
   "execution_count": 40,
   "metadata": {},
   "outputs": [
    {
     "name": "stdout",
     "output_type": "stream",
     "text": [
      "nobody ['*', '-2', '-2'] /var/empty /usr/bin/false\n"
     ]
    }
   ],
   "source": [
    "# Few other Examples\n",
    "\n",
    "url='nobody:*:-2:-2:Unprivileged User:/var/empty:/usr/bin/false'\n",
    "name, *fields, authorised, homedir, user=url.split(':')\n",
    "print(name, fields, authorised, homedir, user)"
   ]
  },
  {
   "cell_type": "markdown",
   "metadata": {},
   "source": [
    "# Ignoring the valirables that you donot want to map to\n",
    "record = ('ACME', 50, 123.45, (12, 18, 2012))\n",
    "title, *_, year=record\n",
    "print(title,year)"
   ]
  },
  {
   "cell_type": "markdown",
   "metadata": {},
   "source": [
    "### Keeping the last N Items"
   ]
  },
  {
   "cell_type": "markdown",
   "metadata": {},
   "source": [
    "### Getting to know Queue\n",
    "1. supports FIFO (first in first out)\n",
    "2. Don't allow for random access to the objects they contain.\n",
    "3. Takes O(1) time for insert and delete operations as compared to list which is O(n).\n",
    "\n",
    "Operations on deque:\n",
    "1. append() ---> append at the right end of the queue with the given argument provided\n",
    "2. appendleft() ---> append at the left end of the queue with the given argument provided\n",
    "3. pop() ------> extracts the rightmost item from the queue and then deletes it\n",
    "4. popleft()  ------> extracts the leftmost item from the queue and then deletes it\n"
   ]
  },
  {
   "cell_type": "code",
   "execution_count": 6,
   "metadata": {
    "scrolled": true
   },
   "outputs": [
    {
     "name": "stdout",
     "output_type": "stream",
     "text": [
      "deque([1, 2, 3, 4])\n",
      "deque([0, 1, 2, 3, 4])\n",
      "deque([0, 1, 2, 3])\n",
      "deque([1, 2, 3])\n"
     ]
    }
   ],
   "source": [
    "# Example\n",
    "# Import collections\n",
    "import collections\n",
    "\n",
    "# Initializing deque\n",
    "de=collections.deque([1,2,3])\n",
    "de.append(4)\n",
    "print(de )\n",
    "\n",
    "de.appendleft(0)\n",
    "print(de)\n",
    "\n",
    "# Pop operations extract the value from the list and also deletes it\n",
    "de.pop()\n",
    "print(de)\n",
    "\n",
    "de.popleft()\n",
    "print(de)\n"
   ]
  },
  {
   "cell_type": "markdown",
   "metadata": {},
   "source": [
    "### Maxlen in queue\n",
    "\n",
    "1. Syntax: my_queue=deque(maxlen=3)\n",
    "2. It bounds the length of the queue.\n",
    "3. Once a bounded length deque is full, when new items are added, a corresponding number of items are discarded from the opposite end. Bounded length deques provide functionality similar to the tail filter in Unix. They are also useful for tracking transactions and other pools of data where only the most recent activity is of interest.\n",
    "\n",
    "\n",
    "link: https://stackoverflow.com/questions/19723459/why-is-python-deque-initialized-using-the-last-maxlen-items-in-an-iterable"
   ]
  },
  {
   "cell_type": "code",
   "execution_count": 19,
   "metadata": {},
   "outputs": [
    {
     "name": "stdout",
     "output_type": "stream",
     "text": [
      "deque([1], maxlen=3)\n",
      "deque([1, 2], maxlen=3)\n",
      "deque([1, 2, 3], maxlen=3)\n",
      "deque([2, 3, 4], maxlen=3)\n",
      "deque([3, 4, 5], maxlen=3)\n",
      "deque([4, 5, 6], maxlen=3)\n"
     ]
    }
   ],
   "source": [
    "from collections import deque\n",
    "d=deque(maxlen=3)\n",
    "for i in range(1,7):\n",
    "    d.append(i)\n",
    "    print(d)\n"
   ]
  },
  {
   "cell_type": "markdown",
   "metadata": {},
   "source": [
    "\n",
    "### Generators in Python\n",
    "\n",
    "Problem:\n",
    "1. Overhead in building an iterator in Python\n",
    "    a. implement a class with __iter__() and __next__() which are the `iterator protocol` method\n",
    "    b. keep track of internal states\n",
    "    c. raise `StopIteration` when there was no values to be returned, etc\n",
    "    d these are lengthy and counter intuitive.\n",
    "    \n",
    "Solution:\n",
    "1. Generators is a fucntion that returns an object (iterator) which we can iterate over (one value at a time)\n",
    "\n",
    "Difference between `return` and `yield`:\n",
    "1. return statement terminates a function entirely\n",
    "2. Yield statement pauses the function saving all its states and later continues from there on successive calls.\n",
    "\n",
    "Important Notes:\n",
    "1. variable value is remembered while normal fucntions destroys the local variable values after its returned \n",
    "2. Generator object can be iterated only once\n",
    "\n",
    "How it works?\n",
    "1. first define generators\n",
    "2. Then initialize the generator\n",
    "3. Iterate the generator theough using next(gen_obj)\n",
    "\n",
    "link: https://www.programiz.com/python-programming/generator\n",
    "\n",
    "    "
   ]
  },
  {
   "cell_type": "markdown",
   "metadata": {},
   "source": [
    "### Generators in Python\n",
    "\n",
    "Problem:\n",
    "1. Overhead in building an iterator in Python\n",
    "    a. implement a class with __iter__() and __next__() which are the `iterator protocol` method\n",
    "    b. keep track of internal states\n",
    "    c. raise `StopIteration` when there was no values to be returned, etc\n",
    "    d these are lengthy and counter intuitive.\n",
    "    \n",
    "Solution:\n",
    "1. Generators is a fucntion that returns an object (iterator) which we can iterate over (one value at a time)\n",
    "\n",
    "Difference between `return` and `yield`:\n",
    "1. return statement terminates a function entirely\n",
    "2. Yield statement pauses the function saving all its states and later continues from there on successive calls.\n",
    "\n",
    "Important Notes:\n",
    "1. variable value is remembered while normal fucntions destroys the local variable values after its returned \n",
    "2. Generator object can be iterated only once\n",
    "\n",
    "How it works?\n",
    "1. first define generators\n",
    "2. Then initialize the generator\n",
    "3. Iterate the generator theough using next(gen_obj)\n",
    "\n",
    "link: https://www.programiz.com/python-programming/generator\n",
    "\n",
    "    "
   ]
  },
  {
   "cell_type": "code",
   "execution_count": 13,
   "metadata": {
    "scrolled": true
   },
   "outputs": [
    {
     "ename": "TypeError",
     "evalue": "next expected at least 1 arguments, got 0",
     "output_type": "error",
     "traceback": [
      "\u001b[0;31m---------------------------------------------------------------------------\u001b[0m",
      "\u001b[0;31mTypeError\u001b[0m                                 Traceback (most recent call last)",
      "\u001b[0;32m<ipython-input-13-5a065d04c827>\u001b[0m in \u001b[0;36m<module>\u001b[0;34m\u001b[0m\n\u001b[1;32m     18\u001b[0m \u001b[0ma\u001b[0m\u001b[0;34m=\u001b[0m\u001b[0mmy_generator\u001b[0m\u001b[0;34m(\u001b[0m\u001b[0;34m)\u001b[0m\u001b[0;34m\u001b[0m\u001b[0;34m\u001b[0m\u001b[0m\n\u001b[1;32m     19\u001b[0m \u001b[0;34m\u001b[0m\u001b[0m\n\u001b[0;32m---> 20\u001b[0;31m \u001b[0mnext\u001b[0m\u001b[0;34m(\u001b[0m\u001b[0;34m)\u001b[0m\u001b[0;34m\u001b[0m\u001b[0;34m\u001b[0m\u001b[0m\n\u001b[0m\u001b[1;32m     21\u001b[0m \u001b[0mnext\u001b[0m\u001b[0;34m(\u001b[0m\u001b[0ma\u001b[0m\u001b[0;34m)\u001b[0m\u001b[0;34m\u001b[0m\u001b[0;34m\u001b[0m\u001b[0m\n\u001b[1;32m     22\u001b[0m \u001b[0mnext\u001b[0m\u001b[0;34m(\u001b[0m\u001b[0ma\u001b[0m\u001b[0;34m)\u001b[0m\u001b[0;34m\u001b[0m\u001b[0;34m\u001b[0m\u001b[0m\n",
      "\u001b[0;31mTypeError\u001b[0m: next expected at least 1 arguments, got 0"
     ]
    }
   ],
   "source": [
    "# Simple example of the generators\n",
    "\n",
    "def my_generator():\n",
    "    n=1\n",
    "    print(n)\n",
    "    yield n\n",
    "    \n",
    "    n+=1\n",
    "    print(n)\n",
    "    yield n\n",
    "    \n",
    "    n+=2\n",
    "    print(n)\n",
    "    yield n\n",
    "    \n",
    "    \n",
    "# it returns an object but doesn't start execution immediately\n",
    "a=my_generator()\n",
    "\n",
    "# We can iterate through the itmes using next()\n",
    "next(a)\n",
    "next(a)\n",
    "next(a)\n"
   ]
  },
  {
   "cell_type": "markdown",
   "metadata": {},
   "source": [
    "We can use generators with for loops directly\n",
    "1. This is because , a `for` loop takes an iterator \n",
    "2. iterates over it using the next() function\n",
    "3. Automatically ends when `StopIteration` is raised.\n",
    "\n",
    "How for loop works: https://www.programiz.com/python-programming/iterator#for-loop-working\n"
   ]
  },
  {
   "cell_type": "code",
   "execution_count": 18,
   "metadata": {
    "scrolled": false
   },
   "outputs": [
    {
     "name": "stdout",
     "output_type": "stream",
     "text": [
      "1\n",
      "1\n",
      "3\n",
      "3\n",
      "5\n",
      "5\n"
     ]
    }
   ],
   "source": [
    "# Using generators in loop\n",
    "def gen_loop():\n",
    "    n=1\n",
    "    print(n)\n",
    "    yield n\n",
    "\n",
    "    n+=2\n",
    "    print(n)\n",
    "    yield n\n",
    "\n",
    "    n+=2\n",
    "    print(n)\n",
    "    yield n\n",
    "\n",
    "for item in gen_loop():\n",
    "    print(item)\n"
   ]
  },
  {
   "cell_type": "code",
   "execution_count": 21,
   "metadata": {},
   "outputs": [
    {
     "data": {
      "text/plain": [
       "<generator object search at 0x7fd99c1d5af0>"
      ]
     },
     "execution_count": 21,
     "metadata": {},
     "output_type": "execute_result"
    }
   ],
   "source": [
    "from collections import deque\n",
    "\n",
    "def search(lines, pattern, history=5):\n",
    "    previous_lines = deque(maxlen=history)\n",
    "    for line in lines:\n",
    "        if pattern in line:\n",
    "            yield line, previous_lines\n",
    "    previous_lines.append(line)\n",
    "    \n",
    "search('f', 'hello')\n",
    "\n",
    "    \n",
    "    "
   ]
  }
 ],
 "metadata": {
  "kernelspec": {
   "display_name": "Python 3",
   "language": "python",
   "name": "python3"
  },
  "language_info": {
   "codemirror_mode": {
    "name": "ipython",
    "version": 3
   },
   "file_extension": ".py",
   "mimetype": "text/x-python",
   "name": "python",
   "nbconvert_exporter": "python",
   "pygments_lexer": "ipython3",
   "version": "3.6.7"
  }
 },
 "nbformat": 4,
 "nbformat_minor": 2
}
